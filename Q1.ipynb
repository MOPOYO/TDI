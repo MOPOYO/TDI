{
 "cells": [
  {
   "cell_type": "code",
   "execution_count": 1,
   "metadata": {
    "collapsed": true
   },
   "outputs": [],
   "source": [
    "import pandas as pd\n",
    "import numpy as np\n",
    "import matplotlib.pyplot as plt"
   ]
  },
  {
   "cell_type": "code",
   "execution_count": 2,
   "metadata": {
    "collapsed": true
   },
   "outputs": [],
   "source": [
    "url = \"http://www1.nyc.gov/assets/ccrb/downloads/excel/ccrb_datatransparencyinitiative_20170207.xlsx\""
   ]
  },
  {
   "cell_type": "code",
   "execution_count": 5,
   "metadata": {},
   "outputs": [
    {
     "name": "stderr",
     "output_type": "stream",
     "text": [
      "C:\\Users\\zhengy\\AppData\\Local\\Continuum\\anaconda3\\lib\\site-packages\\pandas\\util\\_decorators.py:118: FutureWarning: The `sheetname` keyword is deprecated, use `sheet_name` instead\n",
      "  return func(*args, **kwargs)\n"
     ]
    }
   ],
   "source": [
    "# read data as a pandas dataframe\n",
    "df =  pd.read_excel(url, sheetname = \"Complaints_Allegations\")"
   ]
  },
  {
   "cell_type": "code",
   "execution_count": 6,
   "metadata": {},
   "outputs": [
    {
     "data": {
      "text/html": [
       "<div>\n",
       "<style scoped>\n",
       "    .dataframe tbody tr th:only-of-type {\n",
       "        vertical-align: middle;\n",
       "    }\n",
       "\n",
       "    .dataframe tbody tr th {\n",
       "        vertical-align: top;\n",
       "    }\n",
       "\n",
       "    .dataframe thead th {\n",
       "        text-align: right;\n",
       "    }\n",
       "</style>\n",
       "<table border=\"1\" class=\"dataframe\">\n",
       "  <thead>\n",
       "    <tr style=\"text-align: right;\">\n",
       "      <th></th>\n",
       "      <th>DateStamp</th>\n",
       "      <th>UniqueComplaintId</th>\n",
       "      <th>Close Year</th>\n",
       "      <th>Received Year</th>\n",
       "      <th>Borough of Occurrence</th>\n",
       "      <th>Is Full Investigation</th>\n",
       "      <th>Complaint Has Video Evidence</th>\n",
       "      <th>Complaint Filed Mode</th>\n",
       "      <th>Complaint Filed Place</th>\n",
       "      <th>Complaint Contains Stop &amp; Frisk Allegations</th>\n",
       "      <th>Incident Location</th>\n",
       "      <th>Incident Year</th>\n",
       "      <th>Encounter Outcome</th>\n",
       "      <th>Reason For Initial Contact</th>\n",
       "      <th>Allegation FADO Type</th>\n",
       "      <th>Allegation Description</th>\n",
       "    </tr>\n",
       "  </thead>\n",
       "  <tbody>\n",
       "    <tr>\n",
       "      <th>0</th>\n",
       "      <td>2017-02-07</td>\n",
       "      <td>6</td>\n",
       "      <td>2006</td>\n",
       "      <td>2006</td>\n",
       "      <td>Brooklyn</td>\n",
       "      <td>False</td>\n",
       "      <td>False</td>\n",
       "      <td>Phone</td>\n",
       "      <td>IAB</td>\n",
       "      <td>False</td>\n",
       "      <td>Street/highway</td>\n",
       "      <td>2006</td>\n",
       "      <td>No Arrest or Summons</td>\n",
       "      <td>PD suspected C/V of violation/crime - street</td>\n",
       "      <td>Discourtesy</td>\n",
       "      <td>Action</td>\n",
       "    </tr>\n",
       "    <tr>\n",
       "      <th>1</th>\n",
       "      <td>2017-02-07</td>\n",
       "      <td>11</td>\n",
       "      <td>2006</td>\n",
       "      <td>2006</td>\n",
       "      <td>Bronx</td>\n",
       "      <td>False</td>\n",
       "      <td>False</td>\n",
       "      <td>Phone</td>\n",
       "      <td>IAB</td>\n",
       "      <td>False</td>\n",
       "      <td>Street/highway</td>\n",
       "      <td>2006</td>\n",
       "      <td>Arrest</td>\n",
       "      <td>Other</td>\n",
       "      <td>Force</td>\n",
       "      <td>Physical force</td>\n",
       "    </tr>\n",
       "    <tr>\n",
       "      <th>2</th>\n",
       "      <td>2017-02-07</td>\n",
       "      <td>20</td>\n",
       "      <td>2006</td>\n",
       "      <td>2005</td>\n",
       "      <td>Bronx</td>\n",
       "      <td>False</td>\n",
       "      <td>False</td>\n",
       "      <td>Call Processing System</td>\n",
       "      <td>CCRB</td>\n",
       "      <td>True</td>\n",
       "      <td>Street/highway</td>\n",
       "      <td>2005</td>\n",
       "      <td>No Arrest or Summons</td>\n",
       "      <td>Other</td>\n",
       "      <td>Abuse of Authority</td>\n",
       "      <td>Strip-searched</td>\n",
       "    </tr>\n",
       "  </tbody>\n",
       "</table>\n",
       "</div>"
      ],
      "text/plain": [
       "   DateStamp  UniqueComplaintId  Close Year  Received Year  \\\n",
       "0 2017-02-07                  6        2006           2006   \n",
       "1 2017-02-07                 11        2006           2006   \n",
       "2 2017-02-07                 20        2006           2005   \n",
       "\n",
       "  Borough of Occurrence  Is Full Investigation  Complaint Has Video Evidence  \\\n",
       "0              Brooklyn                  False                         False   \n",
       "1                 Bronx                  False                         False   \n",
       "2                 Bronx                  False                         False   \n",
       "\n",
       "     Complaint Filed Mode Complaint Filed Place  \\\n",
       "0                   Phone                   IAB   \n",
       "1                   Phone                   IAB   \n",
       "2  Call Processing System                  CCRB   \n",
       "\n",
       "   Complaint Contains Stop & Frisk Allegations Incident Location  \\\n",
       "0                                        False    Street/highway   \n",
       "1                                        False    Street/highway   \n",
       "2                                         True    Street/highway   \n",
       "\n",
       "   Incident Year     Encounter Outcome  \\\n",
       "0           2006  No Arrest or Summons   \n",
       "1           2006                Arrest   \n",
       "2           2005  No Arrest or Summons   \n",
       "\n",
       "                     Reason For Initial Contact Allegation FADO Type  \\\n",
       "0  PD suspected C/V of violation/crime - street          Discourtesy   \n",
       "1                                         Other                Force   \n",
       "2                                         Other   Abuse of Authority   \n",
       "\n",
       "  Allegation Description  \n",
       "0                 Action  \n",
       "1         Physical force  \n",
       "2         Strip-searched  "
      ]
     },
     "execution_count": 6,
     "metadata": {},
     "output_type": "execute_result"
    }
   ],
   "source": [
    "# Do some basic data exploration\n",
    "df.head(3)"
   ]
  },
  {
   "cell_type": "code",
   "execution_count": 7,
   "metadata": {},
   "outputs": [
    {
     "name": "stdout",
     "output_type": "stream",
     "text": [
      "<class 'pandas.core.frame.DataFrame'>\n",
      "RangeIndex: 206718 entries, 0 to 206717\n",
      "Data columns (total 16 columns):\n",
      "DateStamp                                      206718 non-null datetime64[ns]\n",
      "UniqueComplaintId                              206718 non-null int64\n",
      "Close Year                                     206718 non-null int64\n",
      "Received Year                                  206718 non-null int64\n",
      "Borough of Occurrence                          206216 non-null object\n",
      "Is Full Investigation                          206718 non-null bool\n",
      "Complaint Has Video Evidence                   206718 non-null bool\n",
      "Complaint Filed Mode                           206718 non-null object\n",
      "Complaint Filed Place                          206718 non-null object\n",
      "Complaint Contains Stop & Frisk Allegations    206718 non-null bool\n",
      "Incident Location                              203349 non-null object\n",
      "Incident Year                                  206718 non-null int64\n",
      "Encounter Outcome                              206718 non-null object\n",
      "Reason For Initial Contact                     205840 non-null object\n",
      "Allegation FADO Type                           206715 non-null object\n",
      "Allegation Description                         206715 non-null object\n",
      "dtypes: bool(3), datetime64[ns](1), int64(4), object(8)\n",
      "memory usage: 21.1+ MB\n"
     ]
    }
   ],
   "source": [
    "df.info()"
   ]
  },
  {
   "cell_type": "code",
   "execution_count": 8,
   "metadata": {},
   "outputs": [
    {
     "data": {
      "text/plain": [
       "(206718, 16)"
      ]
     },
     "execution_count": 8,
     "metadata": {},
     "output_type": "execute_result"
    }
   ],
   "source": [
    "df.shape"
   ]
  },
  {
   "cell_type": "code",
   "execution_count": null,
   "metadata": {
    "collapsed": true
   },
   "outputs": [],
   "source": [
    "\"\"\"\n",
    "How many unique complaints (identified by 'UniqueComplaintId') with complete information (i.e. there are no missing values) \n",
    "appear in the dataset?\n",
    "\n",
    "\"\"\""
   ]
  },
  {
   "cell_type": "code",
   "execution_count": 14,
   "metadata": {},
   "outputs": [
    {
     "data": {
      "text/plain": [
       "68467"
      ]
     },
     "execution_count": 14,
     "metadata": {},
     "output_type": "execute_result"
    }
   ],
   "source": [
    "df.dropna().UniqueComplaintId.nunique()"
   ]
  },
  {
   "cell_type": "code",
   "execution_count": null,
   "metadata": {
    "collapsed": true
   },
   "outputs": [],
   "source": [
    "\"\"\"\n",
    "What proportion of complaints occur in the borough with the largest number of complaints? For this question, only consider \n",
    "unique complaints with complete information.\n",
    "\"\"\""
   ]
  },
  {
   "cell_type": "code",
   "execution_count": 15,
   "metadata": {
    "collapsed": true
   },
   "outputs": [],
   "source": [
    "# drop incomplete complaints\n",
    "df_complete = df.dropna()"
   ]
  },
  {
   "cell_type": "code",
   "execution_count": 16,
   "metadata": {},
   "outputs": [
    {
     "data": {
      "text/plain": [
       "(202390, 16)"
      ]
     },
     "execution_count": 16,
     "metadata": {},
     "output_type": "execute_result"
    }
   ],
   "source": [
    "df_complete.shape"
   ]
  },
  {
   "cell_type": "code",
   "execution_count": 25,
   "metadata": {},
   "outputs": [
    {
     "data": {
      "text/plain": [
       "Borough of Occurrence\n",
       "Brooklyn         23369\n",
       "Manhattan        16067\n",
       "Bronx            15603\n",
       "Queens           10608\n",
       "Staten Island     2763\n",
       "Outside NYC         57\n",
       "Name: UniqueComplaintId, dtype: int64"
      ]
     },
     "execution_count": 25,
     "metadata": {},
     "output_type": "execute_result"
    }
   ],
   "source": [
    "# Calulcate the number of unique complaints in each borough\n",
    "df_complete.groupby(\"Borough of Occurrence\")[\"UniqueComplaintId\"].nunique().sort_values(ascending=False)"
   ]
  },
  {
   "cell_type": "code",
   "execution_count": 36,
   "metadata": {},
   "outputs": [
    {
     "data": {
      "text/plain": [
       "68467"
      ]
     },
     "execution_count": 36,
     "metadata": {},
     "output_type": "execute_result"
    }
   ],
   "source": [
    "# calculate the total number of unique complaints in NY\n",
    "df_complete.UniqueComplaintId.nunique()"
   ]
  },
  {
   "cell_type": "code",
   "execution_count": 34,
   "metadata": {},
   "outputs": [
    {
     "data": {
      "text/plain": [
       "0.3413177151036266"
      ]
     },
     "execution_count": 34,
     "metadata": {},
     "output_type": "execute_result"
    }
   ],
   "source": [
    "# Calculate the proportion of complaints occurring in the borough with the largest number of complaints\n",
    "(df_complete.groupby(\"Borough of Occurrence\")[\"UniqueComplaintId\"].nunique().sort_values(ascending=False)[0])/(df_complete.UniqueComplaintId.nunique())"
   ]
  },
  {
   "cell_type": "code",
   "execution_count": null,
   "metadata": {
    "collapsed": true
   },
   "outputs": [],
   "source": [
    "\"\"\"\n",
    "How many complaints per 100k residents were there in the borough with the highest number of complaints per capita \n",
    "resulting from incidents in 2016? Find the 2016 population estimates of each borough on Wikipedia. Ignore complaints \n",
    "from \"Outside NYC\". For this question, only consider unique complaints with complete information.\n",
    "\n",
    "\"\"\""
   ]
  },
  {
   "cell_type": "code",
   "execution_count": 92,
   "metadata": {
    "collapsed": true
   },
   "outputs": [],
   "source": [
    "# Subset the complaints in 2016\n",
    "df_2016 = df_complete[df_complete[\"Incident Year\"]==2016]"
   ]
  },
  {
   "cell_type": "code",
   "execution_count": 93,
   "metadata": {
    "collapsed": true
   },
   "outputs": [],
   "source": [
    "# Calulcate number of complaints for each borough\n",
    "df_borough = df_2016.groupby(\"Borough of Occurrence\")[\"UniqueComplaintId\"].nunique()"
   ]
  },
  {
   "cell_type": "code",
   "execution_count": 94,
   "metadata": {
    "collapsed": true
   },
   "outputs": [],
   "source": [
    "df_borough.drop([\"Outside NYC\"], inplace=True)"
   ]
  },
  {
   "cell_type": "code",
   "execution_count": 95,
   "metadata": {
    "collapsed": true
   },
   "outputs": [],
   "source": [
    "# Convert to a dataframe\n",
    "df_borough = df_borough.to_frame()"
   ]
  },
  {
   "cell_type": "code",
   "execution_count": 96,
   "metadata": {
    "collapsed": true
   },
   "outputs": [],
   "source": [
    "# Add the population of each borough to the dataframe\n",
    "df_borough[\"Population\"] = [1455720, 2629150, 1643734, 2333054, 476015]"
   ]
  },
  {
   "cell_type": "code",
   "execution_count": 97,
   "metadata": {
    "collapsed": true
   },
   "outputs": [],
   "source": [
    "# Calculate the complaints per captia for each borough\n",
    "df_borough[\"complaints_per_capita\"] = df_borough[\"UniqueComplaintId\"]/df_borough[\"Population\"]"
   ]
  },
  {
   "cell_type": "code",
   "execution_count": 98,
   "metadata": {},
   "outputs": [
    {
     "data": {
      "text/html": [
       "<div>\n",
       "<style scoped>\n",
       "    .dataframe tbody tr th:only-of-type {\n",
       "        vertical-align: middle;\n",
       "    }\n",
       "\n",
       "    .dataframe tbody tr th {\n",
       "        vertical-align: top;\n",
       "    }\n",
       "\n",
       "    .dataframe thead th {\n",
       "        text-align: right;\n",
       "    }\n",
       "</style>\n",
       "<table border=\"1\" class=\"dataframe\">\n",
       "  <thead>\n",
       "    <tr style=\"text-align: right;\">\n",
       "      <th></th>\n",
       "      <th>UniqueComplaintId</th>\n",
       "      <th>Population</th>\n",
       "      <th>complaints_per_capita</th>\n",
       "    </tr>\n",
       "    <tr>\n",
       "      <th>Borough of Occurrence</th>\n",
       "      <th></th>\n",
       "      <th></th>\n",
       "      <th></th>\n",
       "    </tr>\n",
       "  </thead>\n",
       "  <tbody>\n",
       "    <tr>\n",
       "      <th>Bronx</th>\n",
       "      <td>772</td>\n",
       "      <td>1455720</td>\n",
       "      <td>0.000530</td>\n",
       "    </tr>\n",
       "    <tr>\n",
       "      <th>Manhattan</th>\n",
       "      <td>844</td>\n",
       "      <td>1643734</td>\n",
       "      <td>0.000513</td>\n",
       "    </tr>\n",
       "    <tr>\n",
       "      <th>Brooklyn</th>\n",
       "      <td>1068</td>\n",
       "      <td>2629150</td>\n",
       "      <td>0.000406</td>\n",
       "    </tr>\n",
       "    <tr>\n",
       "      <th>Staten Island</th>\n",
       "      <td>149</td>\n",
       "      <td>476015</td>\n",
       "      <td>0.000313</td>\n",
       "    </tr>\n",
       "    <tr>\n",
       "      <th>Queens</th>\n",
       "      <td>589</td>\n",
       "      <td>2333054</td>\n",
       "      <td>0.000252</td>\n",
       "    </tr>\n",
       "  </tbody>\n",
       "</table>\n",
       "</div>"
      ],
      "text/plain": [
       "                       UniqueComplaintId  Population  complaints_per_capita\n",
       "Borough of Occurrence                                                      \n",
       "Bronx                                772     1455720               0.000530\n",
       "Manhattan                            844     1643734               0.000513\n",
       "Brooklyn                            1068     2629150               0.000406\n",
       "Staten Island                        149      476015               0.000313\n",
       "Queens                               589     2333054               0.000252"
      ]
     },
     "execution_count": 98,
     "metadata": {},
     "output_type": "execute_result"
    }
   ],
   "source": [
    "# Sort the number of complaints per capita\n",
    "df_borough.sort_values(by=[\"complaints_per_capita\"], ascending=False)"
   ]
  },
  {
   "cell_type": "code",
   "execution_count": 99,
   "metadata": {},
   "outputs": [
    {
     "data": {
      "text/plain": [
       "53.03217651746215"
      ]
     },
     "execution_count": 99,
     "metadata": {},
     "output_type": "execute_result"
    }
   ],
   "source": [
    "# Number of complaints per 100k residents in the borough with the highest number of complaints per capita\n",
    "df_borough.loc[\"Bronx\", \"UniqueComplaintId\"]/((df_borough.loc[\"Bronx\", \"Population\"])/100000)"
   ]
  },
  {
   "cell_type": "code",
   "execution_count": null,
   "metadata": {
    "collapsed": true
   },
   "outputs": [],
   "source": [
    "\"\"\"\n",
    "What is the average number of years it takes for a complaint to be closed? For this question, only consider unique \n",
    "complaints with complete information.\n",
    "\n",
    "\"\"\""
   ]
  },
  {
   "cell_type": "code",
   "execution_count": 74,
   "metadata": {
    "collapsed": true
   },
   "outputs": [],
   "source": [
    "df_time = df_complete.drop_duplicates(subset = [\"UniqueComplaintId\"])"
   ]
  },
  {
   "cell_type": "code",
   "execution_count": 76,
   "metadata": {},
   "outputs": [
    {
     "name": "stderr",
     "output_type": "stream",
     "text": [
      "C:\\Users\\zhengy\\AppData\\Local\\Continuum\\anaconda3\\lib\\site-packages\\ipykernel_launcher.py:1: SettingWithCopyWarning: \n",
      "A value is trying to be set on a copy of a slice from a DataFrame.\n",
      "Try using .loc[row_indexer,col_indexer] = value instead\n",
      "\n",
      "See the caveats in the documentation: http://pandas.pydata.org/pandas-docs/stable/indexing.html#indexing-view-versus-copy\n",
      "  \"\"\"Entry point for launching an IPython kernel.\n"
     ]
    }
   ],
   "source": [
    "df_time[\"year\"] = df_time[\"Close Year\"] - df_time[\"Received Year\"]"
   ]
  },
  {
   "cell_type": "code",
   "execution_count": 78,
   "metadata": {},
   "outputs": [
    {
     "data": {
      "text/plain": [
       "0.4743745161902814"
      ]
     },
     "execution_count": 78,
     "metadata": {},
     "output_type": "execute_result"
    }
   ],
   "source": [
    "df_time[\"year\"].mean()"
   ]
  },
  {
   "cell_type": "code",
   "execution_count": null,
   "metadata": {
    "collapsed": true
   },
   "outputs": [],
   "source": [
    "\"\"\"\n",
    "Complaints about stop and frisk have been declining. Use linear regression from the year complaints about stop and \n",
    "frisk peaked through 2016 (inclusive) to predict how many stop and frisk incidents in 2018 will eventually lead to a \n",
    "complaint. For this question, only consider unique complaints with complete information. Remember that the count of \n",
    "complaints must be an integer (round to nearest).\n",
    "\n",
    "\"\"\""
   ]
  },
  {
   "cell_type": "code",
   "execution_count": 124,
   "metadata": {},
   "outputs": [
    {
     "name": "stderr",
     "output_type": "stream",
     "text": [
      "C:\\Users\\zhengy\\AppData\\Local\\Continuum\\anaconda3\\lib\\site-packages\\ipykernel_launcher.py:1: SettingWithCopyWarning: \n",
      "A value is trying to be set on a copy of a slice from a DataFrame.\n",
      "Try using .loc[row_indexer,col_indexer] = value instead\n",
      "\n",
      "See the caveats in the documentation: http://pandas.pydata.org/pandas-docs/stable/indexing.html#indexing-view-versus-copy\n",
      "  \"\"\"Entry point for launching an IPython kernel.\n"
     ]
    }
   ],
   "source": [
    "# Find the complains about stop and flask and set a boolean variable to indicate it\n",
    "df_time[\"Frisk\"]= (df_time[\"Allegation Description\"].str.contains(\"Frisk\")) | (df_time[\"Allegation Description\"].str.contains(\"Stop\"))"
   ]
  },
  {
   "cell_type": "code",
   "execution_count": 127,
   "metadata": {},
   "outputs": [
    {
     "data": {
      "text/plain": [
       "Incident Year\n",
       "1999      0.0\n",
       "2002      0.0\n",
       "2003      0.0\n",
       "2004      6.0\n",
       "2005     83.0\n",
       "2006    212.0\n",
       "2007    613.0\n",
       "2008    830.0\n",
       "2009    859.0\n",
       "2010    727.0\n",
       "2011    706.0\n",
       "2012    598.0\n",
       "2013    499.0\n",
       "2014    372.0\n",
       "2015    311.0\n",
       "2016    231.0\n",
       "2017      1.0\n",
       "Name: Frisk, dtype: float64"
      ]
     },
     "execution_count": 127,
     "metadata": {},
     "output_type": "execute_result"
    }
   ],
   "source": [
    "# Calcualte the number of complaints related to stop and frisk by each year\n",
    "df_time.groupby(\"Incident Year\")[\"Frisk\"].sum()"
   ]
  },
  {
   "cell_type": "code",
   "execution_count": 129,
   "metadata": {
    "collapsed": true
   },
   "outputs": [],
   "source": [
    "# Form a dataframe \n",
    "df_relationship = pd.DataFrame({\"year\": [2009, 2010, 2011,2012,2013,2014,2015,2016], \"number\":[859,727,703,598,499,372,311,231]})"
   ]
  },
  {
   "cell_type": "code",
   "execution_count": 130,
   "metadata": {},
   "outputs": [
    {
     "data": {
      "text/html": [
       "<div>\n",
       "<style scoped>\n",
       "    .dataframe tbody tr th:only-of-type {\n",
       "        vertical-align: middle;\n",
       "    }\n",
       "\n",
       "    .dataframe tbody tr th {\n",
       "        vertical-align: top;\n",
       "    }\n",
       "\n",
       "    .dataframe thead th {\n",
       "        text-align: right;\n",
       "    }\n",
       "</style>\n",
       "<table border=\"1\" class=\"dataframe\">\n",
       "  <thead>\n",
       "    <tr style=\"text-align: right;\">\n",
       "      <th></th>\n",
       "      <th>number</th>\n",
       "      <th>year</th>\n",
       "    </tr>\n",
       "  </thead>\n",
       "  <tbody>\n",
       "    <tr>\n",
       "      <th>0</th>\n",
       "      <td>859</td>\n",
       "      <td>2009</td>\n",
       "    </tr>\n",
       "    <tr>\n",
       "      <th>1</th>\n",
       "      <td>727</td>\n",
       "      <td>2010</td>\n",
       "    </tr>\n",
       "    <tr>\n",
       "      <th>2</th>\n",
       "      <td>703</td>\n",
       "      <td>2011</td>\n",
       "    </tr>\n",
       "    <tr>\n",
       "      <th>3</th>\n",
       "      <td>598</td>\n",
       "      <td>2012</td>\n",
       "    </tr>\n",
       "    <tr>\n",
       "      <th>4</th>\n",
       "      <td>499</td>\n",
       "      <td>2013</td>\n",
       "    </tr>\n",
       "    <tr>\n",
       "      <th>5</th>\n",
       "      <td>372</td>\n",
       "      <td>2014</td>\n",
       "    </tr>\n",
       "    <tr>\n",
       "      <th>6</th>\n",
       "      <td>311</td>\n",
       "      <td>2015</td>\n",
       "    </tr>\n",
       "    <tr>\n",
       "      <th>7</th>\n",
       "      <td>231</td>\n",
       "      <td>2016</td>\n",
       "    </tr>\n",
       "  </tbody>\n",
       "</table>\n",
       "</div>"
      ],
      "text/plain": [
       "   number  year\n",
       "0     859  2009\n",
       "1     727  2010\n",
       "2     703  2011\n",
       "3     598  2012\n",
       "4     499  2013\n",
       "5     372  2014\n",
       "6     311  2015\n",
       "7     231  2016"
      ]
     },
     "execution_count": 130,
     "metadata": {},
     "output_type": "execute_result"
    }
   ],
   "source": [
    "df_relationship"
   ]
  },
  {
   "cell_type": "code",
   "execution_count": 220,
   "metadata": {
    "collapsed": true
   },
   "outputs": [],
   "source": [
    "# Fit the linear regression for the relationship between year and number of complains\n",
    "import statsmodels.formula.api as sm\n",
    "model = sm.ols(formula=\"number ~ year\", data=df_relationship).fit()"
   ]
  },
  {
   "cell_type": "code",
   "execution_count": 221,
   "metadata": {},
   "outputs": [
    {
     "data": {
      "text/plain": [
       "Intercept    181854.166667\n",
       "year            -90.095238\n",
       "dtype: float64"
      ]
     },
     "execution_count": 221,
     "metadata": {},
     "output_type": "execute_result"
    }
   ],
   "source": [
    "# Print the fitted model parameters\n",
    "model.params"
   ]
  },
  {
   "cell_type": "code",
   "execution_count": 222,
   "metadata": {},
   "outputs": [
    {
     "data": {
      "text/plain": [
       "42.0"
      ]
     },
     "execution_count": 222,
     "metadata": {},
     "output_type": "execute_result"
    }
   ],
   "source": [
    "# Calcuate the number of complaints in 2018 \n",
    "round(2018* model.params[\"year\"]+model.params[\"Intercept\"])"
   ]
  },
  {
   "cell_type": "code",
   "execution_count": null,
   "metadata": {
    "collapsed": true
   },
   "outputs": [],
   "source": [
    "\"\"\"\n",
    "Calculate the chi-square test statistic for testing whether a complaint is more likely to receive a full investigation \n",
    "when it has video evidence. For this question, only consider unique complaints with complete information.\n",
    "\n",
    "\"\"\""
   ]
  },
  {
   "cell_type": "code",
   "execution_count": 142,
   "metadata": {},
   "outputs": [
    {
     "data": {
      "text/html": [
       "<div>\n",
       "<style scoped>\n",
       "    .dataframe tbody tr th:only-of-type {\n",
       "        vertical-align: middle;\n",
       "    }\n",
       "\n",
       "    .dataframe tbody tr th {\n",
       "        vertical-align: top;\n",
       "    }\n",
       "\n",
       "    .dataframe thead th {\n",
       "        text-align: right;\n",
       "    }\n",
       "</style>\n",
       "<table border=\"1\" class=\"dataframe\">\n",
       "  <thead>\n",
       "    <tr style=\"text-align: right;\">\n",
       "      <th>Is Full Investigation</th>\n",
       "      <th>False</th>\n",
       "      <th>True</th>\n",
       "      <th>All</th>\n",
       "    </tr>\n",
       "    <tr>\n",
       "      <th>Complaint Has Video Evidence</th>\n",
       "      <th></th>\n",
       "      <th></th>\n",
       "      <th></th>\n",
       "    </tr>\n",
       "  </thead>\n",
       "  <tbody>\n",
       "    <tr>\n",
       "      <th>False</th>\n",
       "      <td>44529</td>\n",
       "      <td>21889</td>\n",
       "      <td>66418</td>\n",
       "    </tr>\n",
       "    <tr>\n",
       "      <th>True</th>\n",
       "      <td>584</td>\n",
       "      <td>1465</td>\n",
       "      <td>2049</td>\n",
       "    </tr>\n",
       "    <tr>\n",
       "      <th>All</th>\n",
       "      <td>45113</td>\n",
       "      <td>23354</td>\n",
       "      <td>68467</td>\n",
       "    </tr>\n",
       "  </tbody>\n",
       "</table>\n",
       "</div>"
      ],
      "text/plain": [
       "Is Full Investigation         False   True    All\n",
       "Complaint Has Video Evidence                     \n",
       "False                         44529  21889  66418\n",
       "True                            584   1465   2049\n",
       "All                           45113  23354  68467"
      ]
     },
     "execution_count": 142,
     "metadata": {},
     "output_type": "execute_result"
    }
   ],
   "source": [
    "# create crosstab for the two columns\n",
    "pd.crosstab(df_time[\"Complaint Has Video Evidence\"], df_time[\"Is Full Investigation\"], margins = True)"
   ]
  },
  {
   "cell_type": "code",
   "execution_count": 137,
   "metadata": {
    "collapsed": true
   },
   "outputs": [],
   "source": [
    "from scipy.stats import chisquare"
   ]
  },
  {
   "cell_type": "code",
   "execution_count": 144,
   "metadata": {
    "collapsed": true
   },
   "outputs": [],
   "source": [
    "investigation_video = pd.crosstab(df_time[\"Complaint Has Video Evidence\"], df_time[\"Is Full Investigation\"], margins = True)"
   ]
  },
  {
   "cell_type": "code",
   "execution_count": 145,
   "metadata": {
    "collapsed": true
   },
   "outputs": [],
   "source": [
    "# Rename columns and rows\n",
    "investigation_video.columns = [\"no investigation\", \"investigation\", \"row_totals\"]\n",
    "\n",
    "investigation_video.index = [\"no video\",\"vedio\",\"col_totals\"]"
   ]
  },
  {
   "cell_type": "code",
   "execution_count": 146,
   "metadata": {},
   "outputs": [
    {
     "data": {
      "text/html": [
       "<div>\n",
       "<style scoped>\n",
       "    .dataframe tbody tr th:only-of-type {\n",
       "        vertical-align: middle;\n",
       "    }\n",
       "\n",
       "    .dataframe tbody tr th {\n",
       "        vertical-align: top;\n",
       "    }\n",
       "\n",
       "    .dataframe thead th {\n",
       "        text-align: right;\n",
       "    }\n",
       "</style>\n",
       "<table border=\"1\" class=\"dataframe\">\n",
       "  <thead>\n",
       "    <tr style=\"text-align: right;\">\n",
       "      <th></th>\n",
       "      <th>no investigation</th>\n",
       "      <th>investigation</th>\n",
       "      <th>row_totals</th>\n",
       "    </tr>\n",
       "  </thead>\n",
       "  <tbody>\n",
       "    <tr>\n",
       "      <th>no video</th>\n",
       "      <td>44529</td>\n",
       "      <td>21889</td>\n",
       "      <td>66418</td>\n",
       "    </tr>\n",
       "    <tr>\n",
       "      <th>vedio</th>\n",
       "      <td>584</td>\n",
       "      <td>1465</td>\n",
       "      <td>2049</td>\n",
       "    </tr>\n",
       "    <tr>\n",
       "      <th>col_totals</th>\n",
       "      <td>45113</td>\n",
       "      <td>23354</td>\n",
       "      <td>68467</td>\n",
       "    </tr>\n",
       "  </tbody>\n",
       "</table>\n",
       "</div>"
      ],
      "text/plain": [
       "            no investigation  investigation  row_totals\n",
       "no video               44529          21889       66418\n",
       "vedio                    584           1465        2049\n",
       "col_totals             45113          23354       68467"
      ]
     },
     "execution_count": 146,
     "metadata": {},
     "output_type": "execute_result"
    }
   ],
   "source": [
    "investigation_video"
   ]
  },
  {
   "cell_type": "code",
   "execution_count": 153,
   "metadata": {
    "collapsed": true
   },
   "outputs": [],
   "source": [
    "# Caluclate the expected values\n",
    "expected =  np.outer(investigation_video[\"row_totals\"][0:2], investigation_video.loc[\"col_totals\"][0:2])/68467"
   ]
  },
  {
   "cell_type": "code",
   "execution_count": 155,
   "metadata": {
    "collapsed": true
   },
   "outputs": [],
   "source": [
    "expected = pd.DataFrame(expected)"
   ]
  },
  {
   "cell_type": "code",
   "execution_count": 157,
   "metadata": {},
   "outputs": [
    {
     "data": {
      "text/html": [
       "<div>\n",
       "<style scoped>\n",
       "    .dataframe tbody tr th:only-of-type {\n",
       "        vertical-align: middle;\n",
       "    }\n",
       "\n",
       "    .dataframe tbody tr th {\n",
       "        vertical-align: top;\n",
       "    }\n",
       "\n",
       "    .dataframe thead th {\n",
       "        text-align: right;\n",
       "    }\n",
       "</style>\n",
       "<table border=\"1\" class=\"dataframe\">\n",
       "  <thead>\n",
       "    <tr style=\"text-align: right;\">\n",
       "      <th></th>\n",
       "      <th>no investigation</th>\n",
       "      <th>investigation</th>\n",
       "    </tr>\n",
       "  </thead>\n",
       "  <tbody>\n",
       "    <tr>\n",
       "      <th>no video</th>\n",
       "      <td>43762.911096</td>\n",
       "      <td>22655.088904</td>\n",
       "    </tr>\n",
       "    <tr>\n",
       "      <th>vedio</th>\n",
       "      <td>1350.088904</td>\n",
       "      <td>698.911096</td>\n",
       "    </tr>\n",
       "  </tbody>\n",
       "</table>\n",
       "</div>"
      ],
      "text/plain": [
       "          no investigation  investigation\n",
       "no video      43762.911096   22655.088904\n",
       "vedio          1350.088904     698.911096"
      ]
     },
     "execution_count": 157,
     "metadata": {},
     "output_type": "execute_result"
    }
   ],
   "source": [
    "expected.columns = [\"no investigation\", \"investigation\"]\n",
    "expected.index = [\"no video\",\"vedio\"]\n",
    "\n",
    "expected"
   ]
  },
  {
   "cell_type": "code",
   "execution_count": 158,
   "metadata": {},
   "outputs": [
    {
     "data": {
      "text/html": [
       "<div>\n",
       "<style scoped>\n",
       "    .dataframe tbody tr th:only-of-type {\n",
       "        vertical-align: middle;\n",
       "    }\n",
       "\n",
       "    .dataframe tbody tr th {\n",
       "        vertical-align: top;\n",
       "    }\n",
       "\n",
       "    .dataframe thead th {\n",
       "        text-align: right;\n",
       "    }\n",
       "</style>\n",
       "<table border=\"1\" class=\"dataframe\">\n",
       "  <thead>\n",
       "    <tr style=\"text-align: right;\">\n",
       "      <th></th>\n",
       "      <th>no investigation</th>\n",
       "      <th>investigation</th>\n",
       "    </tr>\n",
       "  </thead>\n",
       "  <tbody>\n",
       "    <tr>\n",
       "      <th>no video</th>\n",
       "      <td>44529</td>\n",
       "      <td>21889</td>\n",
       "    </tr>\n",
       "    <tr>\n",
       "      <th>vedio</th>\n",
       "      <td>584</td>\n",
       "      <td>1465</td>\n",
       "    </tr>\n",
       "  </tbody>\n",
       "</table>\n",
       "</div>"
      ],
      "text/plain": [
       "          no investigation  investigation\n",
       "no video             44529          21889\n",
       "vedio                  584           1465"
      ]
     },
     "execution_count": 158,
     "metadata": {},
     "output_type": "execute_result"
    }
   ],
   "source": [
    "observed = investigation_video.iloc[0:2,0:2] \n",
    "observed"
   ]
  },
  {
   "cell_type": "code",
   "execution_count": 159,
   "metadata": {},
   "outputs": [
    {
     "data": {
      "text/plain": [
       "1313.7462956601673"
      ]
     },
     "execution_count": 159,
     "metadata": {},
     "output_type": "execute_result"
    }
   ],
   "source": [
    "# Calculate the chi-square statistics\n",
    "chi_squared_stat = (((observed-expected)**2)/expected).sum().sum()\n",
    "chi_squared_stat"
   ]
  },
  {
   "cell_type": "code",
   "execution_count": null,
   "metadata": {
    "collapsed": true
   },
   "outputs": [],
   "source": [
    "\"\"\"\n",
    "Each row in the data set corresponds with a specific allegation. Therefore a particular complaint, designated by \n",
    "'UniqueComplaintId', may have multiple allegations. Consider only allegations with complete information. \n",
    "Is the presence of a certain type of allegation (i.e. 'Allegation FADO Type') indicative that a complaint will \n",
    "contain multiple allegations? Create indicator variables for whether a complaint contains each type of allegation, \n",
    "and perform a linear regression of the number of allegations per complaint against these indicator variables. \n",
    "What is the maximum coefficient of the linear regression?\n",
    "\n",
    "\"\"\""
   ]
  },
  {
   "cell_type": "code",
   "execution_count": 173,
   "metadata": {},
   "outputs": [
    {
     "data": {
      "text/html": [
       "<div>\n",
       "<style scoped>\n",
       "    .dataframe tbody tr th:only-of-type {\n",
       "        vertical-align: middle;\n",
       "    }\n",
       "\n",
       "    .dataframe tbody tr th {\n",
       "        vertical-align: top;\n",
       "    }\n",
       "\n",
       "    .dataframe thead th {\n",
       "        text-align: right;\n",
       "    }\n",
       "</style>\n",
       "<table border=\"1\" class=\"dataframe\">\n",
       "  <thead>\n",
       "    <tr style=\"text-align: right;\">\n",
       "      <th></th>\n",
       "      <th>UniqueComplaintId</th>\n",
       "      <th>Allegation FADO Type</th>\n",
       "    </tr>\n",
       "  </thead>\n",
       "  <tbody>\n",
       "    <tr>\n",
       "      <th>0</th>\n",
       "      <td>6</td>\n",
       "      <td>Discourtesy</td>\n",
       "    </tr>\n",
       "    <tr>\n",
       "      <th>1</th>\n",
       "      <td>11</td>\n",
       "      <td>Force</td>\n",
       "    </tr>\n",
       "    <tr>\n",
       "      <th>2</th>\n",
       "      <td>20</td>\n",
       "      <td>Abuse of Authority</td>\n",
       "    </tr>\n",
       "    <tr>\n",
       "      <th>3</th>\n",
       "      <td>20</td>\n",
       "      <td>Abuse of Authority</td>\n",
       "    </tr>\n",
       "    <tr>\n",
       "      <th>4</th>\n",
       "      <td>20</td>\n",
       "      <td>Abuse of Authority</td>\n",
       "    </tr>\n",
       "  </tbody>\n",
       "</table>\n",
       "</div>"
      ],
      "text/plain": [
       "   UniqueComplaintId Allegation FADO Type\n",
       "0                  6          Discourtesy\n",
       "1                 11                Force\n",
       "2                 20   Abuse of Authority\n",
       "3                 20   Abuse of Authority\n",
       "4                 20   Abuse of Authority"
      ]
     },
     "execution_count": 173,
     "metadata": {},
     "output_type": "execute_result"
    }
   ],
   "source": [
    "# Subset the data with unique id and allergation type\n",
    "df_allegation = df[[\"UniqueComplaintId\", \"Allegation FADO Type\"]]\n",
    "df_allegation.head()"
   ]
  },
  {
   "cell_type": "code",
   "execution_count": 178,
   "metadata": {},
   "outputs": [
    {
     "name": "stderr",
     "output_type": "stream",
     "text": [
      "C:\\Users\\zhengy\\AppData\\Local\\Continuum\\anaconda3\\lib\\site-packages\\ipykernel_launcher.py:1: SettingWithCopyWarning: \n",
      "A value is trying to be set on a copy of a slice from a DataFrame.\n",
      "Try using .loc[row_indexer,col_indexer] = value instead\n",
      "\n",
      "See the caveats in the documentation: http://pandas.pydata.org/pandas-docs/stable/indexing.html#indexing-view-versus-copy\n",
      "  \"\"\"Entry point for launching an IPython kernel.\n"
     ]
    }
   ],
   "source": [
    "# Broadcast one column for futher calculating the number of allegations per complaint. \n",
    "df_allegation[\"number\"]=1"
   ]
  },
  {
   "cell_type": "code",
   "execution_count": 180,
   "metadata": {
    "collapsed": true
   },
   "outputs": [],
   "source": [
    "# Get indicator variables for whether a complaint contains each type of allegation\n",
    "df_allegation =pd.get_dummies(df_allegation).groupby(\"UniqueComplaintId\").sum()"
   ]
  },
  {
   "cell_type": "code",
   "execution_count": 188,
   "metadata": {
    "collapsed": true
   },
   "outputs": [],
   "source": [
    "# Make the indicator variables to be binary. \n",
    "df_allegation[\"Abuse_of_Authority\"] = (df_allegation[\"Allegation FADO Type_Abuse of Authority\"]>0).astype(int)"
   ]
  },
  {
   "cell_type": "code",
   "execution_count": 185,
   "metadata": {
    "collapsed": true
   },
   "outputs": [],
   "source": [
    "df_allegation[\"Discourtesy\"] = (df_allegation[\"Allegation FADO Type_Discourtesy\"]>0).astype(int)\n",
    "df_allegation[\"Force\"] = (df_allegation[\"Allegation FADO Type_Force\"]>0).astype(int)\n",
    "df_allegation[\"Language\"] = (df_allegation[\"Allegation FADO Type_Offensive Language\"]>0).astype(int)"
   ]
  },
  {
   "cell_type": "code",
   "execution_count": 224,
   "metadata": {},
   "outputs": [
    {
     "data": {
      "text/html": [
       "<div>\n",
       "<style scoped>\n",
       "    .dataframe tbody tr th:only-of-type {\n",
       "        vertical-align: middle;\n",
       "    }\n",
       "\n",
       "    .dataframe tbody tr th {\n",
       "        vertical-align: top;\n",
       "    }\n",
       "\n",
       "    .dataframe thead th {\n",
       "        text-align: right;\n",
       "    }\n",
       "</style>\n",
       "<table border=\"1\" class=\"dataframe\">\n",
       "  <thead>\n",
       "    <tr style=\"text-align: right;\">\n",
       "      <th></th>\n",
       "      <th>number</th>\n",
       "      <th>Allegation FADO Type_Abuse of Authority</th>\n",
       "      <th>Allegation FADO Type_Discourtesy</th>\n",
       "      <th>Allegation FADO Type_Force</th>\n",
       "      <th>Allegation FADO Type_Offensive Language</th>\n",
       "      <th>Abuse of Authority</th>\n",
       "      <th>Discourtesy</th>\n",
       "      <th>Force</th>\n",
       "      <th>Language</th>\n",
       "      <th>Abuse_of_Authority</th>\n",
       "    </tr>\n",
       "    <tr>\n",
       "      <th>UniqueComplaintId</th>\n",
       "      <th></th>\n",
       "      <th></th>\n",
       "      <th></th>\n",
       "      <th></th>\n",
       "      <th></th>\n",
       "      <th></th>\n",
       "      <th></th>\n",
       "      <th></th>\n",
       "      <th></th>\n",
       "      <th></th>\n",
       "    </tr>\n",
       "  </thead>\n",
       "  <tbody>\n",
       "    <tr>\n",
       "      <th>1</th>\n",
       "      <td>5</td>\n",
       "      <td>2</td>\n",
       "      <td>1</td>\n",
       "      <td>2</td>\n",
       "      <td>0</td>\n",
       "      <td>1</td>\n",
       "      <td>1</td>\n",
       "      <td>1</td>\n",
       "      <td>0</td>\n",
       "      <td>1</td>\n",
       "    </tr>\n",
       "    <tr>\n",
       "      <th>2</th>\n",
       "      <td>2</td>\n",
       "      <td>2</td>\n",
       "      <td>0</td>\n",
       "      <td>0</td>\n",
       "      <td>0</td>\n",
       "      <td>1</td>\n",
       "      <td>0</td>\n",
       "      <td>0</td>\n",
       "      <td>0</td>\n",
       "      <td>1</td>\n",
       "    </tr>\n",
       "    <tr>\n",
       "      <th>3</th>\n",
       "      <td>1</td>\n",
       "      <td>0</td>\n",
       "      <td>1</td>\n",
       "      <td>0</td>\n",
       "      <td>0</td>\n",
       "      <td>0</td>\n",
       "      <td>1</td>\n",
       "      <td>0</td>\n",
       "      <td>0</td>\n",
       "      <td>0</td>\n",
       "    </tr>\n",
       "    <tr>\n",
       "      <th>4</th>\n",
       "      <td>3</td>\n",
       "      <td>2</td>\n",
       "      <td>1</td>\n",
       "      <td>0</td>\n",
       "      <td>0</td>\n",
       "      <td>1</td>\n",
       "      <td>1</td>\n",
       "      <td>0</td>\n",
       "      <td>0</td>\n",
       "      <td>1</td>\n",
       "    </tr>\n",
       "    <tr>\n",
       "      <th>5</th>\n",
       "      <td>1</td>\n",
       "      <td>0</td>\n",
       "      <td>0</td>\n",
       "      <td>1</td>\n",
       "      <td>0</td>\n",
       "      <td>0</td>\n",
       "      <td>0</td>\n",
       "      <td>1</td>\n",
       "      <td>0</td>\n",
       "      <td>0</td>\n",
       "    </tr>\n",
       "  </tbody>\n",
       "</table>\n",
       "</div>"
      ],
      "text/plain": [
       "                   number  Allegation FADO Type_Abuse of Authority  \\\n",
       "UniqueComplaintId                                                    \n",
       "1                       5                                        2   \n",
       "2                       2                                        2   \n",
       "3                       1                                        0   \n",
       "4                       3                                        2   \n",
       "5                       1                                        0   \n",
       "\n",
       "                   Allegation FADO Type_Discourtesy  \\\n",
       "UniqueComplaintId                                     \n",
       "1                                                 1   \n",
       "2                                                 0   \n",
       "3                                                 1   \n",
       "4                                                 1   \n",
       "5                                                 0   \n",
       "\n",
       "                   Allegation FADO Type_Force  \\\n",
       "UniqueComplaintId                               \n",
       "1                                           2   \n",
       "2                                           0   \n",
       "3                                           0   \n",
       "4                                           0   \n",
       "5                                           1   \n",
       "\n",
       "                   Allegation FADO Type_Offensive Language  \\\n",
       "UniqueComplaintId                                            \n",
       "1                                                        0   \n",
       "2                                                        0   \n",
       "3                                                        0   \n",
       "4                                                        0   \n",
       "5                                                        0   \n",
       "\n",
       "                   Abuse of Authority  Discourtesy  Force  Language  \\\n",
       "UniqueComplaintId                                                     \n",
       "1                                   1            1      1         0   \n",
       "2                                   1            0      0         0   \n",
       "3                                   0            1      0         0   \n",
       "4                                   1            1      0         0   \n",
       "5                                   0            0      1         0   \n",
       "\n",
       "                   Abuse_of_Authority  \n",
       "UniqueComplaintId                      \n",
       "1                                   1  \n",
       "2                                   1  \n",
       "3                                   0  \n",
       "4                                   1  \n",
       "5                                   0  "
      ]
     },
     "execution_count": 224,
     "metadata": {},
     "output_type": "execute_result"
    }
   ],
   "source": [
    "df_allegation.head()"
   ]
  },
  {
   "cell_type": "code",
   "execution_count": 190,
   "metadata": {
    "collapsed": true
   },
   "outputs": [],
   "source": [
    "# Fit linear regression between indicator variables and number of number of allegation per complaint. \n",
    "model2 = sm.ols(formula=\"number ~ Abuse_of_Authority+Discourtesy+Force+Language\", data=df_allegation).fit()"
   ]
  },
  {
   "cell_type": "code",
   "execution_count": 193,
   "metadata": {},
   "outputs": [
    {
     "data": {
      "text/plain": [
       "Abuse_of_Authority    2.565593\n",
       "Force                 1.899061\n",
       "Discourtesy           1.604893\n",
       "Language              1.470417\n",
       "Intercept            -0.430303\n",
       "dtype: float64"
      ]
     },
     "execution_count": 193,
     "metadata": {},
     "output_type": "execute_result"
    }
   ],
   "source": [
    "# Get the parameter with the maximum value \n",
    "model2.params.sort_values(ascending=False)"
   ]
  },
  {
   "cell_type": "code",
   "execution_count": null,
   "metadata": {
    "collapsed": true
   },
   "outputs": [],
   "source": [
    "\"\"\"\n",
    "According to NYC.gov there are approximately 36000 officers in New York. The website additionally lists information on \n",
    "all the precincts in each borough. Consider unique complaints (not necessarily with complete information) from incidents \n",
    "in 2016. Assuming that complaints per capita are proportional to officers per capita in each borough, calculate the average \n",
    "number of officers per precinct in each borough (ignore complaints from outside of NYC). What is the ratio of the highest \n",
    "number of officers per precinct to the lowest number of officers per precinct?\n",
    "\n",
    "\"\"\""
   ]
  },
  {
   "cell_type": "code",
   "execution_count": 195,
   "metadata": {
    "collapsed": true
   },
   "outputs": [],
   "source": [
    "# Get the incidents happening in 2016\n",
    "df_2016 = df[df[\"Incident Year\"]==2016]"
   ]
  },
  {
   "cell_type": "code",
   "execution_count": 198,
   "metadata": {},
   "outputs": [
    {
     "name": "stderr",
     "output_type": "stream",
     "text": [
      "C:\\Users\\zhengy\\AppData\\Local\\Continuum\\anaconda3\\lib\\site-packages\\ipykernel_launcher.py:1: SettingWithCopyWarning: \n",
      "A value is trying to be set on a copy of a slice from a DataFrame\n",
      "\n",
      "See the caveats in the documentation: http://pandas.pydata.org/pandas-docs/stable/indexing.html#indexing-view-versus-copy\n",
      "  \"\"\"Entry point for launching an IPython kernel.\n"
     ]
    }
   ],
   "source": [
    "df_2016.drop_duplicates(subset = [\"UniqueComplaintId\"], inplace = True)"
   ]
  },
  {
   "cell_type": "code",
   "execution_count": 201,
   "metadata": {
    "collapsed": true
   },
   "outputs": [],
   "source": [
    "# Calculate the number of unique complaints for each borough\n",
    "incident_per_capita = df_2016.groupby(\"Borough of Occurrence\")[\"UniqueComplaintId\"].count().drop([\"Outside NYC\"])"
   ]
  },
  {
   "cell_type": "code",
   "execution_count": 202,
   "metadata": {},
   "outputs": [
    {
     "data": {
      "text/plain": [
       "Borough of Occurrence\n",
       "Bronx             792\n",
       "Brooklyn         1102\n",
       "Manhattan         862\n",
       "Queens            601\n",
       "Staten Island     156\n",
       "Name: UniqueComplaintId, dtype: int64"
      ]
     },
     "execution_count": 202,
     "metadata": {},
     "output_type": "execute_result"
    }
   ],
   "source": [
    "incident_per_capita"
   ]
  },
  {
   "cell_type": "code",
   "execution_count": 203,
   "metadata": {
    "collapsed": true
   },
   "outputs": [],
   "source": [
    "# Conver to dataframe\n",
    "incident_per_capita = incident_per_capita.to_frame()"
   ]
  },
  {
   "cell_type": "code",
   "execution_count": 204,
   "metadata": {
    "collapsed": true
   },
   "outputs": [],
   "source": [
    "# Add the population to the dataframe\n",
    "incident_per_capita[\"population\"] = [1455720, 2629150, 1643734, 2333054, 476015]"
   ]
  },
  {
   "cell_type": "code",
   "execution_count": 206,
   "metadata": {
    "collapsed": true
   },
   "outputs": [],
   "source": [
    "# Calculate the incident per capita for each borough \n",
    "incident_per_capita[\"incident_per_capita\"] = incident_per_capita[\"UniqueComplaintId\"]/incident_per_capita[\"population\"]"
   ]
  },
  {
   "cell_type": "code",
   "execution_count": 208,
   "metadata": {
    "collapsed": true
   },
   "outputs": [],
   "source": [
    "# Calculate the ratio of incident per capita for each borough\n",
    "incident_per_capita[\"incident_per_capita_ratio\"] = incident_per_capita[\"incident_per_capita\"]/(incident_per_capita[\"incident_per_capita\"].sum())"
   ]
  },
  {
   "cell_type": "code",
   "execution_count": 212,
   "metadata": {
    "collapsed": true
   },
   "outputs": [],
   "source": [
    "# Calculate the number of officers per borough\n",
    "incident_per_capita[\"officer\"]=incident_per_capita[\"incident_per_capita_ratio\"]*36000"
   ]
  },
  {
   "cell_type": "code",
   "execution_count": 215,
   "metadata": {
    "collapsed": true
   },
   "outputs": [],
   "source": [
    "# Add the number of precints for each borough\n",
    "incident_per_capita[\"precinct\"] = [12, 23, 22, 16, 4]"
   ]
  },
  {
   "cell_type": "code",
   "execution_count": 217,
   "metadata": {
    "collapsed": true
   },
   "outputs": [],
   "source": [
    "# Calculate the officer per precint for each borough \n",
    "incident_per_capita[\"officer_per_precint\"]= (incident_per_capita[\"officer\"]/incident_per_capita[\"precinct\"]).round()"
   ]
  },
  {
   "cell_type": "code",
   "execution_count": 218,
   "metadata": {
    "scrolled": true
   },
   "outputs": [
    {
     "data": {
      "text/html": [
       "<div>\n",
       "<style scoped>\n",
       "    .dataframe tbody tr th:only-of-type {\n",
       "        vertical-align: middle;\n",
       "    }\n",
       "\n",
       "    .dataframe tbody tr th {\n",
       "        vertical-align: top;\n",
       "    }\n",
       "\n",
       "    .dataframe thead th {\n",
       "        text-align: right;\n",
       "    }\n",
       "</style>\n",
       "<table border=\"1\" class=\"dataframe\">\n",
       "  <thead>\n",
       "    <tr style=\"text-align: right;\">\n",
       "      <th></th>\n",
       "      <th>UniqueComplaintId</th>\n",
       "      <th>population</th>\n",
       "      <th>incident_per_capita</th>\n",
       "      <th>incident_per_capita_ratio</th>\n",
       "      <th>officer</th>\n",
       "      <th>precinct</th>\n",
       "      <th>officer_per_precint</th>\n",
       "    </tr>\n",
       "    <tr>\n",
       "      <th>Borough of Occurrence</th>\n",
       "      <th></th>\n",
       "      <th></th>\n",
       "      <th></th>\n",
       "      <th></th>\n",
       "      <th></th>\n",
       "      <th></th>\n",
       "      <th></th>\n",
       "    </tr>\n",
       "  </thead>\n",
       "  <tbody>\n",
       "    <tr>\n",
       "      <th>Bronx</th>\n",
       "      <td>792</td>\n",
       "      <td>1455720</td>\n",
       "      <td>0.000544</td>\n",
       "      <td>0.262458</td>\n",
       "      <td>9448.476259</td>\n",
       "      <td>12</td>\n",
       "      <td>787.0</td>\n",
       "    </tr>\n",
       "    <tr>\n",
       "      <th>Brooklyn</th>\n",
       "      <td>1102</td>\n",
       "      <td>2629150</td>\n",
       "      <td>0.000419</td>\n",
       "      <td>0.202199</td>\n",
       "      <td>7279.150076</td>\n",
       "      <td>23</td>\n",
       "      <td>316.0</td>\n",
       "    </tr>\n",
       "    <tr>\n",
       "      <th>Manhattan</th>\n",
       "      <td>862</td>\n",
       "      <td>1643734</td>\n",
       "      <td>0.000524</td>\n",
       "      <td>0.252981</td>\n",
       "      <td>9107.311072</td>\n",
       "      <td>22</td>\n",
       "      <td>414.0</td>\n",
       "    </tr>\n",
       "    <tr>\n",
       "      <th>Queens</th>\n",
       "      <td>601</td>\n",
       "      <td>2333054</td>\n",
       "      <td>0.000258</td>\n",
       "      <td>0.124269</td>\n",
       "      <td>4473.671846</td>\n",
       "      <td>16</td>\n",
       "      <td>280.0</td>\n",
       "    </tr>\n",
       "    <tr>\n",
       "      <th>Staten Island</th>\n",
       "      <td>156</td>\n",
       "      <td>476015</td>\n",
       "      <td>0.000328</td>\n",
       "      <td>0.158094</td>\n",
       "      <td>5691.390747</td>\n",
       "      <td>4</td>\n",
       "      <td>1423.0</td>\n",
       "    </tr>\n",
       "  </tbody>\n",
       "</table>\n",
       "</div>"
      ],
      "text/plain": [
       "                       UniqueComplaintId  population  incident_per_capita  \\\n",
       "Borough of Occurrence                                                       \n",
       "Bronx                                792     1455720             0.000544   \n",
       "Brooklyn                            1102     2629150             0.000419   \n",
       "Manhattan                            862     1643734             0.000524   \n",
       "Queens                               601     2333054             0.000258   \n",
       "Staten Island                        156      476015             0.000328   \n",
       "\n",
       "                       incident_per_capita_ratio      officer  precinct  \\\n",
       "Borough of Occurrence                                                     \n",
       "Bronx                                   0.262458  9448.476259        12   \n",
       "Brooklyn                                0.202199  7279.150076        23   \n",
       "Manhattan                               0.252981  9107.311072        22   \n",
       "Queens                                  0.124269  4473.671846        16   \n",
       "Staten Island                           0.158094  5691.390747         4   \n",
       "\n",
       "                       officer_per_precint  \n",
       "Borough of Occurrence                       \n",
       "Bronx                                787.0  \n",
       "Brooklyn                             316.0  \n",
       "Manhattan                            414.0  \n",
       "Queens                               280.0  \n",
       "Staten Island                       1423.0  "
      ]
     },
     "execution_count": 218,
     "metadata": {},
     "output_type": "execute_result"
    }
   ],
   "source": [
    "incident_per_capita"
   ]
  },
  {
   "cell_type": "code",
   "execution_count": 1,
   "metadata": {},
   "outputs": [
    {
     "data": {
      "text/plain": [
       "5.082142857142857"
      ]
     },
     "execution_count": 1,
     "metadata": {},
     "output_type": "execute_result"
    }
   ],
   "source": [
    "highest_number = 1423/280\n",
    "highest_number"
   ]
  },
  {
   "cell_type": "code",
   "execution_count": null,
   "metadata": {
    "collapsed": true
   },
   "outputs": [],
   "source": []
  }
 ],
 "metadata": {
  "kernelspec": {
   "display_name": "Python 3",
   "language": "python",
   "name": "python3"
  },
  "language_info": {
   "codemirror_mode": {
    "name": "ipython",
    "version": 3
   },
   "file_extension": ".py",
   "mimetype": "text/x-python",
   "name": "python",
   "nbconvert_exporter": "python",
   "pygments_lexer": "ipython3",
   "version": "3.6.1"
  }
 },
 "nbformat": 4,
 "nbformat_minor": 2
}
