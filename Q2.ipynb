{
 "cells": [
  {
   "cell_type": "code",
   "execution_count": 1,
   "metadata": {
    "collapsed": true
   },
   "outputs": [],
   "source": [
    "import numpy as np\n",
    "import matplotlib.pyplot as plt"
   ]
  },
  {
   "cell_type": "code",
   "execution_count": 106,
   "metadata": {
    "collapsed": true
   },
   "outputs": [],
   "source": [
    "# Define the function to calculate the remaining length after one cut\n",
    "def cut(n):\n",
    "    location  = np.random.choice(np.arange(1,n), 2, replace=False)\n",
    "    location.sort()\n",
    "    return max(location[0], location[1]-location[0], n-location[1])"
   ]
  },
  {
   "cell_type": "code",
   "execution_count": 107,
   "metadata": {},
   "outputs": [],
   "source": [
    "# Define the function to calculate the remaining length after t cut\n",
    "def iteration(n, t):\n",
    "    for i in range(t):\n",
    "        n = cut(n)\n",
    "        if n < 3:\n",
    "            break\n",
    "    return n"
   ]
  },
  {
   "cell_type": "code",
   "execution_count": 164,
   "metadata": {
    "collapsed": true
   },
   "outputs": [],
   "source": [
    "# Set random seed to reproduce results\n",
    "np.random.seed(20)"
   ]
  },
  {
   "cell_type": "code",
   "execution_count": 165,
   "metadata": {},
   "outputs": [
    {
     "data": {
      "text/plain": [
       "'\\nWhat is the mean of S when N=64 and T=5?\\n'"
      ]
     },
     "execution_count": 165,
     "metadata": {},
     "output_type": "execute_result"
    }
   ],
   "source": [
    "\"\"\"\n",
    "What is the mean of S when N=64 and T=5?\n",
    "\"\"\""
   ]
  },
  {
   "cell_type": "code",
   "execution_count": 166,
   "metadata": {},
   "outputs": [],
   "source": [
    "# use simulation to repeat the expriment for 100000 times, initiate an empty list to store the S for each expriment. \n",
    "length_64 = []"
   ]
  },
  {
   "cell_type": "code",
   "execution_count": 167,
   "metadata": {},
   "outputs": [],
   "source": [
    "# Now length_64 stores the S of 10000 cut experiments\n",
    "for j in range(100000):\n",
    "    length_64.append(iteration(64,5))"
   ]
  },
  {
   "cell_type": "code",
   "execution_count": 168,
   "metadata": {},
   "outputs": [
    {
     "name": "stdout",
     "output_type": "stream",
     "text": [
      "the mean of S when N=64 and T=5 is  4.3864600000\n"
     ]
    }
   ],
   "source": [
    "# Calculate the mean of S\n",
    "print(\"the mean of S when N=64 and T=5 is  %0.10f\" %np.mean(length_64))"
   ]
  },
  {
   "cell_type": "code",
   "execution_count": 169,
   "metadata": {},
   "outputs": [
    {
     "data": {
      "text/plain": [
       "'\\nWhat is the standard deviation of S when N=64 and T=5?\\n'"
      ]
     },
     "execution_count": 169,
     "metadata": {},
     "output_type": "execute_result"
    }
   ],
   "source": [
    "\"\"\"\n",
    "What is the standard deviation of S when N=64 and T=5?\n",
    "\"\"\""
   ]
  },
  {
   "cell_type": "code",
   "execution_count": 176,
   "metadata": {},
   "outputs": [
    {
     "name": "stdout",
     "output_type": "stream",
     "text": [
      "the standard deviation of S when N=64 and T=5 is  2.6692524550\n"
     ]
    }
   ],
   "source": [
    "# Calculate the standard deviation of S\n",
    "print(\"the standard deviation of S when N=64 and T=5 is  %0.10f\" %np.std(length_64))"
   ]
  },
  {
   "cell_type": "code",
   "execution_count": 171,
   "metadata": {},
   "outputs": [
    {
     "data": {
      "text/plain": [
       "'\\nWhat is the mean of S when N=1024 and T=10?\\n'"
      ]
     },
     "execution_count": 171,
     "metadata": {},
     "output_type": "execute_result"
    }
   ],
   "source": [
    "\"\"\"\n",
    "What is the mean of S when N=1024 and T=10?\n",
    "\"\"\""
   ]
  },
  {
   "cell_type": "code",
   "execution_count": 172,
   "metadata": {
    "collapsed": true
   },
   "outputs": [],
   "source": [
    "# use simulation to repeat the expriment for 100000 times, initiate an empty list to store the S for each expriment. \n",
    "length_1024 = []"
   ]
  },
  {
   "cell_type": "code",
   "execution_count": 173,
   "metadata": {
    "collapsed": true
   },
   "outputs": [],
   "source": [
    "# Now length_1024 stores the S of 10000 cut experiments\n",
    "for j in range(100000):\n",
    "    length_1024.append(iteration(1024,10))"
   ]
  },
  {
   "cell_type": "code",
   "execution_count": 174,
   "metadata": {},
   "outputs": [
    {
     "name": "stdout",
     "output_type": "stream",
     "text": [
      "the mean of S when N=2014 and T=10 is  6.3676000000\n"
     ]
    }
   ],
   "source": [
    "# Calculate the mean of S\n",
    "print(\"the mean of S when N=2014 and T=10 is  %0.10f\" %np.mean(length_1024))"
   ]
  },
  {
   "cell_type": "code",
   "execution_count": 175,
   "metadata": {},
   "outputs": [
    {
     "data": {
      "text/plain": [
       "'\\nWhat is the standard deviation of S when N=1024 and T=10?\\n'"
      ]
     },
     "execution_count": 175,
     "metadata": {},
     "output_type": "execute_result"
    }
   ],
   "source": [
    "\"\"\"\n",
    "What is the standard deviation of S when N=1024 and T=10?\n",
    "\"\"\""
   ]
  },
  {
   "cell_type": "code",
   "execution_count": 177,
   "metadata": {},
   "outputs": [
    {
     "name": "stdout",
     "output_type": "stream",
     "text": [
      "the standard deviation of S when N=1024 and T=10 is  5.9015786227\n"
     ]
    }
   ],
   "source": [
    "# Calculate the standard deviation of S\n",
    "print(\"the standard deviation of S when N=1024 and T=10 is  %0.10f\" %np.std(length_1024))"
   ]
  },
  {
   "cell_type": "code",
   "execution_count": 194,
   "metadata": {},
   "outputs": [
    {
     "data": {
      "text/plain": [
       "'\\nWhat is the conditional probability that S is greater than 8 given that it is greater than 4 when N=64 and T=5?\\n\\n'"
      ]
     },
     "execution_count": 194,
     "metadata": {},
     "output_type": "execute_result"
    }
   ],
   "source": [
    "\"\"\"\n",
    "What is the conditional probability that S is greater than 8 given that it is greater than 4 when N=64 and T=5?\n",
    "\n",
    "\"\"\""
   ]
  },
  {
   "cell_type": "code",
   "execution_count": 186,
   "metadata": {
    "collapsed": true
   },
   "outputs": [],
   "source": [
    "# Calculate the conditional probability of S is greater than 8 given that it is greater than 4 when N=64 and T=5\n",
    "conditional_64 = np.sum(np.array(length_64)>8)/np.sum(np.array(length_64)>4)"
   ]
  },
  {
   "cell_type": "code",
   "execution_count": 190,
   "metadata": {},
   "outputs": [
    {
     "name": "stdout",
     "output_type": "stream",
     "text": [
      "the conditional probability that S is greater than 8 given that it is greater than 4 when N=64 and T=5 is 0.1988064746\n"
     ]
    }
   ],
   "source": [
    "print(\"the conditional probability that S is greater than 8 given that it is greater than 4 when N=64 and T=5 is %0.10f\" %conditional_64)"
   ]
  },
  {
   "cell_type": "code",
   "execution_count": 191,
   "metadata": {},
   "outputs": [
    {
     "data": {
      "text/plain": [
       "'\\nWhat is the conditional probability that S is greater than 12 given that it is greater than 6 when N=1024 and T=10?\\n\\n'"
      ]
     },
     "execution_count": 191,
     "metadata": {},
     "output_type": "execute_result"
    }
   ],
   "source": [
    "\"\"\"\n",
    "What is the conditional probability that S is greater than 12 given that it is greater than 6 when N=1024 and T=10?\n",
    "\n",
    "\"\"\""
   ]
  },
  {
   "cell_type": "code",
   "execution_count": 192,
   "metadata": {
    "collapsed": true
   },
   "outputs": [],
   "source": [
    "# Calculate the conditional probability of S is greater than 12 given that it is greater than 6 when N=1024 and T=10\n",
    "conditional_1024 = np.sum(np.array(length_1024)>12)/np.sum(np.array(length_1024)>6)"
   ]
  },
  {
   "cell_type": "code",
   "execution_count": 193,
   "metadata": {},
   "outputs": [
    {
     "name": "stdout",
     "output_type": "stream",
     "text": [
      "the conditional probability that S is greater than 12 given that it is greater than 6 when N=1024 and T=10 is 0.3270701841\n"
     ]
    }
   ],
   "source": [
    "print(\"the conditional probability that S is greater than 12 given that it is greater than 6 when N=1024 and T=10 is %0.10f\" %conditional_1024)"
   ]
  },
  {
   "cell_type": "code",
   "execution_count": null,
   "metadata": {
    "collapsed": true
   },
   "outputs": [],
   "source": []
  }
 ],
 "metadata": {
  "kernelspec": {
   "display_name": "Python 3",
   "language": "python",
   "name": "python3"
  },
  "language_info": {
   "codemirror_mode": {
    "name": "ipython",
    "version": 3
   },
   "file_extension": ".py",
   "mimetype": "text/x-python",
   "name": "python",
   "nbconvert_exporter": "python",
   "pygments_lexer": "ipython3",
   "version": "3.6.1"
  }
 },
 "nbformat": 4,
 "nbformat_minor": 2
}
